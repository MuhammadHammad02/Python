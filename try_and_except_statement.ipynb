{
  "nbformat": 4,
  "nbformat_minor": 0,
  "metadata": {
    "colab": {
      "provenance": [],
      "authorship_tag": "ABX9TyOBlQZKLU7K37/n62wKzESV",
      "include_colab_link": true
    },
    "kernelspec": {
      "name": "python3",
      "display_name": "Python 3"
    },
    "language_info": {
      "name": "python"
    }
  },
  "cells": [
    {
      "cell_type": "markdown",
      "metadata": {
        "id": "view-in-github",
        "colab_type": "text"
      },
      "source": [
        "<a href=\"https://colab.research.google.com/github/MuhammadHammad02/Python/blob/main/try_and_except_statement.ipynb\" target=\"_parent\"><img src=\"https://colab.research.google.com/assets/colab-badge.svg\" alt=\"Open In Colab\"/></a>"
      ]
    },
    {
      "cell_type": "code",
      "execution_count": 2,
      "metadata": {
        "colab": {
          "base_uri": "https://localhost:8080/"
        },
        "id": "mUdroljDq8kZ",
        "outputId": "8f28bc49-ee0a-4815-b8f8-a7499cbd9f58"
      },
      "outputs": [
        {
          "output_type": "stream",
          "name": "stdout",
          "text": [
            "Now compting the result\n",
            "Failed to compute result because you were trying to divide by zero\n",
            "None\n"
          ]
        }
      ],
      "source": [
        "try:\n",
        "    print(\"Now compting the result\")\n",
        "    result = 5/0\n",
        "    print(\"Computation was successfully\")\n",
        "except ZeroDivisionError:\n",
        "    print(\"Failed to compute result because you were trying to divide by zero\")\n",
        "    result = None\n",
        "print(result)"
      ]
    },
    {
      "cell_type": "code",
      "source": [
        "try:\n",
        "    print(\"Now computing the result\")\n",
        "    result = 5/2\n",
        "    print(\"Computation was successfullt\")\n",
        "except ZeroDivisionError:\n",
        "    print(\"Failed to computing the result because you were trying to divide by zero\")\n",
        "    result = None\n",
        "print(result)"
      ],
      "metadata": {
        "colab": {
          "base_uri": "https://localhost:8080/"
        },
        "id": "jp-eP7mbsOMF",
        "outputId": "66cc4d1b-722e-42dd-ccf1-2805a47b1c35"
      },
      "execution_count": 4,
      "outputs": [
        {
          "output_type": "stream",
          "name": "stdout",
          "text": [
            "Now computing the result\n",
            "Computation was successfullt\n",
            "2.5\n"
          ]
        }
      ]
    },
    {
      "cell_type": "code",
      "source": [],
      "metadata": {
        "id": "JBUMzBlAsnqk"
      },
      "execution_count": null,
      "outputs": []
    }
  ]
}