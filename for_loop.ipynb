{
  "nbformat": 4,
  "nbformat_minor": 0,
  "metadata": {
    "colab": {
      "provenance": [],
      "authorship_tag": "ABX9TyM2lGVlPF4gfljWJdAIi8In",
      "include_colab_link": true
    },
    "kernelspec": {
      "name": "python3",
      "display_name": "Python 3"
    },
    "language_info": {
      "name": "python"
    }
  },
  "cells": [
    {
      "cell_type": "markdown",
      "metadata": {
        "id": "view-in-github",
        "colab_type": "text"
      },
      "source": [
        "<a href=\"https://colab.research.google.com/github/MuhammadHammad02/Python/blob/main/for_loop.ipynb\" target=\"_parent\"><img src=\"https://colab.research.google.com/assets/colab-badge.svg\" alt=\"Open In Colab\"/></a>"
      ]
    },
    {
      "cell_type": "code",
      "execution_count": 2,
      "metadata": {
        "colab": {
          "base_uri": "https://localhost:8080/"
        },
        "id": "CY1eQYKlQl0R",
        "outputId": "13245549-1efe-4f52-a36a-2c82503a2d6c"
      },
      "outputs": [
        {
          "output_type": "stream",
          "name": "stdout",
          "text": [
            "monday\n",
            "tuesday\n",
            "wednesday\n",
            "thursday\n",
            "friday\n"
          ]
        }
      ],
      "source": [
        "days = ['monday','tuesday','wednesday','thursday','friday']\n",
        "\n",
        "for day in days:\n",
        "  print(day)"
      ]
    },
    {
      "cell_type": "code",
      "source": [
        "for char in 'monday':\n",
        "  print(char)\n"
      ],
      "metadata": {
        "colab": {
          "base_uri": "https://localhost:8080/"
        },
        "id": "bgSR_vZeRnvQ",
        "outputId": "12ef12b7-c18a-4dc7-f5e9-7b6352045069"
      },
      "execution_count": 3,
      "outputs": [
        {
          "output_type": "stream",
          "name": "stdout",
          "text": [
            "m\n",
            "o\n",
            "n\n",
            "d\n",
            "a\n",
            "y\n"
          ]
        }
      ]
    },
    {
      "cell_type": "code",
      "source": [
        "person = {\n",
        "    \"name\": \"Hammad\",\n",
        "    \"age\": 34,\n",
        "    \"education\": \"MBA\",\n",
        "    \"married\": True\n",
        "}\n",
        "\n",
        "for key in person:\n",
        "  print('Key:',key, \",\", \"Value:\", person[key])"
      ],
      "metadata": {
        "colab": {
          "base_uri": "https://localhost:8080/"
        },
        "id": "FEImCcm3SFKP",
        "outputId": "6effacfa-f3ef-4cf5-c87f-b680ffb9413f"
      },
      "execution_count": 4,
      "outputs": [
        {
          "output_type": "stream",
          "name": "stdout",
          "text": [
            "Key: name , Value: Hammad\n",
            "Key: age , Value: 34\n",
            "Key: education , Value: MBA\n",
            "Key: married , Value: True\n"
          ]
        }
      ]
    }
  ]
}