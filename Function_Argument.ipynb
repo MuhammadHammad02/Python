{
  "nbformat": 4,
  "nbformat_minor": 0,
  "metadata": {
    "colab": {
      "provenance": [],
      "authorship_tag": "ABX9TyMaVNXPhqnhZul8WpzvZTzH",
      "include_colab_link": true
    },
    "kernelspec": {
      "name": "python3",
      "display_name": "Python 3"
    },
    "language_info": {
      "name": "python"
    }
  },
  "cells": [
    {
      "cell_type": "markdown",
      "metadata": {
        "id": "view-in-github",
        "colab_type": "text"
      },
      "source": [
        "<a href=\"https://colab.research.google.com/github/MuhammadHammad02/Python/blob/main/Function_Argument.ipynb\" target=\"_parent\"><img src=\"https://colab.research.google.com/assets/colab-badge.svg\" alt=\"Open In Colab\"/></a>"
      ]
    },
    {
      "cell_type": "code",
      "execution_count": 8,
      "metadata": {
        "id": "gUnjOnUIli4y"
      },
      "outputs": [],
      "source": [
        "def filter_even(number_list):\n",
        "    result_list = []\n",
        "    for number in number_list:\n",
        "        if number % 2 == 0:\n",
        "            result_list.append(number)\n",
        "    return result_list"
      ]
    },
    {
      "cell_type": "code",
      "source": [
        "even_list = filter_even([1,2,3,4,5,6,7,8,9,10])"
      ],
      "metadata": {
        "id": "ODhtqK4dnRP0"
      },
      "execution_count": 9,
      "outputs": []
    },
    {
      "cell_type": "code",
      "source": [
        "even_list"
      ],
      "metadata": {
        "colab": {
          "base_uri": "https://localhost:8080/"
        },
        "id": "Y0YaZIfwnd5N",
        "outputId": "1a443370-4b88-4d29-8cc8-5f043d7b34db"
      },
      "execution_count": 10,
      "outputs": [
        {
          "output_type": "execute_result",
          "data": {
            "text/plain": [
              "[2, 4, 6, 8, 10]"
            ]
          },
          "metadata": {},
          "execution_count": 10
        }
      ]
    }
  ]
}