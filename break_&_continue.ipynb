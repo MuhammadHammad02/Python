{
  "nbformat": 4,
  "nbformat_minor": 0,
  "metadata": {
    "colab": {
      "provenance": [],
      "authorship_tag": "ABX9TyOpDbxTDcz5Fdbv5p9GPns5",
      "include_colab_link": true
    },
    "kernelspec": {
      "name": "python3",
      "display_name": "Python 3"
    },
    "language_info": {
      "name": "python"
    }
  },
  "cells": [
    {
      "cell_type": "markdown",
      "metadata": {
        "id": "view-in-github",
        "colab_type": "text"
      },
      "source": [
        "<a href=\"https://colab.research.google.com/github/MuhammadHammad02/Python/blob/main/break_%26_continue.ipynb\" target=\"_parent\"><img src=\"https://colab.research.google.com/assets/colab-badge.svg\" alt=\"Open In Colab\"/></a>"
      ]
    },
    {
      "cell_type": "code",
      "source": [
        "i = 1\n",
        "result = 1\n",
        "while i < 10:\n",
        "  i +=1\n",
        "  if i % 2 == 0:\n",
        "    print(\"skipping {}\" .format(i))\n",
        "    continue\n",
        "  print(\"Multiplying with {}\" .format(i))\n",
        "  result = result * i\n",
        "\n",
        "print(\"i:\", i)\n",
        "print(\"result:\", result)"
      ],
      "metadata": {
        "colab": {
          "base_uri": "https://localhost:8080/"
        },
        "id": "VlZDYcDzuX9M",
        "outputId": "464ee6b8-6d86-46df-c440-73759cab8ed2"
      },
      "execution_count": 2,
      "outputs": [
        {
          "output_type": "stream",
          "name": "stdout",
          "text": [
            "skipping 2\n",
            "Multiplying with 3\n",
            "skipping 4\n",
            "Multiplying with 5\n",
            "skipping 6\n",
            "Multiplying with 7\n",
            "skipping 8\n",
            "Multiplying with 9\n",
            "skipping 10\n",
            "i: 10\n",
            "result: 945\n"
          ]
        }
      ]
    },
    {
      "cell_type": "code",
      "source": [
        "i = 1\n",
        "result = 1\n",
        "while i <= 10:\n",
        "  result = result * i\n",
        "  if i == 6:\n",
        "      print(\"Magic number 6 resched! Stopping execution\")\n",
        "      break\n",
        "  i += 1\n",
        "\n",
        "print(\"i:\", i)\n",
        "print(\"result:\", result)"
      ],
      "metadata": {
        "colab": {
          "base_uri": "https://localhost:8080/"
        },
        "id": "gQeAAok5xp7N",
        "outputId": "85b62872-71e5-4e49-8896-5f0bf3204986"
      },
      "execution_count": 4,
      "outputs": [
        {
          "output_type": "stream",
          "name": "stdout",
          "text": [
            "Magic number 6 resched! Stopping execution\n",
            "i: 6\n",
            "result: 720\n"
          ]
        }
      ]
    }
  ]
}