{
  "nbformat": 4,
  "nbformat_minor": 0,
  "metadata": {
    "colab": {
      "provenance": [],
      "authorship_tag": "ABX9TyMVJNr05P0qMFMogB8LESbB",
      "include_colab_link": true
    },
    "kernelspec": {
      "name": "python3",
      "display_name": "Python 3"
    },
    "language_info": {
      "name": "python"
    }
  },
  "cells": [
    {
      "cell_type": "markdown",
      "metadata": {
        "id": "view-in-github",
        "colab_type": "text"
      },
      "source": [
        "<a href=\"https://colab.research.google.com/github/MuhammadHammad02/Python/blob/main/Python_Branching_if_statement.ipynb\" target=\"_parent\"><img src=\"https://colab.research.google.com/assets/colab-badge.svg\" alt=\"Open In Colab\"/></a>"
      ]
    },
    {
      "cell_type": "code",
      "execution_count": 1,
      "metadata": {
        "id": "aHA_OH59GfJH"
      },
      "outputs": [],
      "source": [
        "a_number = 34;"
      ]
    },
    {
      "cell_type": "code",
      "source": [
        "if a_number % 2 == 0:\n",
        "  print(\"we're inside an if block\")\n",
        "  print(\"the given number {} is even.\".format(a_number))"
      ],
      "metadata": {
        "colab": {
          "base_uri": "https://localhost:8080/"
        },
        "id": "FcTTgXTjIeZj",
        "outputId": "ce1e4a47-fceb-4da5-87f7-302e8260affb"
      },
      "execution_count": 2,
      "outputs": [
        {
          "output_type": "stream",
          "name": "stdout",
          "text": [
            "we're inside an if block\n",
            "the given number 34 is even.\n"
          ]
        }
      ]
    },
    {
      "cell_type": "code",
      "source": [
        "another_number = 33"
      ],
      "metadata": {
        "id": "aoiFRiSWI7zB"
      },
      "execution_count": 5,
      "outputs": []
    },
    {
      "cell_type": "code",
      "source": [
        "if another_number % 2 == 0:\n",
        "  print('The given number {} is even'.format(another_number))\n",
        "else:\n",
        "  print('The given number {} is odd'.format(another_number))"
      ],
      "metadata": {
        "colab": {
          "base_uri": "https://localhost:8080/"
        },
        "id": "879WwkZzJV3S",
        "outputId": "cd1605c5-ab68-40dd-bc31-df133ac0363c"
      },
      "execution_count": 8,
      "outputs": [
        {
          "output_type": "stream",
          "name": "stdout",
          "text": [
            "The given number 33 is odd\n"
          ]
        }
      ]
    },
    {
      "cell_type": "code",
      "source": [
        "today = \"Monday\""
      ],
      "metadata": {
        "id": "xW0CP0geKNAy"
      },
      "execution_count": 9,
      "outputs": []
    },
    {
      "cell_type": "code",
      "source": [
        "if today == \"Sunday\":\n",
        "  print(\"Today is the day of sun.\")\n",
        "elif today == \"Monday\":\n",
        "  print(\"Today is the day of moon.\")\n",
        "elif today == \"Tuesday\":\n",
        "  print(\"Today is the day of Tyr\")\n",
        "elif today == \"wednesday\":\n",
        "  print(\"Today is the day of odin\")\n",
        "elif today == \"Thursday\":\n",
        "  print(\"Today is the day of Thor\")\n",
        "elif today == \"Friday\":\n",
        "  print(\"Today is the day of Frigga\")\n",
        "elif today == \"Saturday\":\n",
        "  print(\"Today is the day of saturn\")"
      ],
      "metadata": {
        "colab": {
          "base_uri": "https://localhost:8080/"
        },
        "id": "fRg8TwfcKkJK",
        "outputId": "2c6a9aa1-5c26-484c-93f5-9bcc48b689a7"
      },
      "execution_count": 10,
      "outputs": [
        {
          "output_type": "stream",
          "name": "stdout",
          "text": [
            "Today is the day of moon.\n"
          ]
        }
      ]
    },
    {
      "cell_type": "code",
      "source": [
        "a_number = 49"
      ],
      "metadata": {
        "id": "MiN2c-2YMEFr"
      },
      "execution_count": 11,
      "outputs": []
    },
    {
      "cell_type": "code",
      "source": [
        "if a_number % 2 == 0:\n",
        "  print('{} is divisable by 2' .format(a_number))\n",
        "elif a_number % 3 == 0:\n",
        "  print('{} is divisable by 3' .format(a_number))\n",
        "elif a_number % 5 == 0:\n",
        "  print('{} is divisable by 5' .format(a_number))\n",
        "else:\n",
        "  print('All checks failed')\n",
        "  print('{} is not divisable by 2,3,5' .format(a_number))"
      ],
      "metadata": {
        "colab": {
          "base_uri": "https://localhost:8080/"
        },
        "id": "lQovp-HWMMuM",
        "outputId": "8ef050c7-921e-4c61-d273-e225309af3a1"
      },
      "execution_count": 12,
      "outputs": [
        {
          "output_type": "stream",
          "name": "stdout",
          "text": [
            "All checks failed\n",
            "49 is not divisable by 2,3,5\n"
          ]
        }
      ]
    }
  ]
}