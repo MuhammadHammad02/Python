{
  "nbformat": 4,
  "nbformat_minor": 0,
  "metadata": {
    "colab": {
      "provenance": [],
      "authorship_tag": "ABX9TyON+qm9EX1LQTIBLKT36Za4",
      "include_colab_link": true
    },
    "kernelspec": {
      "name": "python3",
      "display_name": "Python 3"
    },
    "language_info": {
      "name": "python"
    }
  },
  "cells": [
    {
      "cell_type": "markdown",
      "metadata": {
        "id": "view-in-github",
        "colab_type": "text"
      },
      "source": [
        "<a href=\"https://colab.research.google.com/github/MuhammadHammad02/Python/blob/main/Practice.ipynb\" target=\"_parent\"><img src=\"https://colab.research.google.com/assets/colab-badge.svg\" alt=\"Open In Colab\"/></a>"
      ]
    },
    {
      "cell_type": "code",
      "execution_count": null,
      "metadata": {
        "colab": {
          "base_uri": "https://localhost:8080/"
        },
        "id": "3TYOwWaApU6b",
        "outputId": "1549cbf8-8d36-4f1c-c2db-565b1d8be2c0"
      },
      "outputs": [
        {
          "output_type": "stream",
          "name": "stdout",
          "text": [
            "Hello World\n",
            "5\n"
          ]
        }
      ],
      "source": [
        "print(\"Hello World\");\n",
        "print(5)\n"
      ]
    },
    {
      "cell_type": "code",
      "source": [
        "a = 50;\n",
        "b = 3;\n",
        "\n",
        "print(\"The value of\", a , \" + \", 3, \"is: \", a + b );\n",
        "print(\"The value of\", a , \" + \", 3, \"is: \", a - b);\n",
        "print(\"The value of\", a , \" + \", 3, \"is: \", a * b );\n",
        "print(\"The value of\", a , \" + \", 3,  \"is: \", a // b);"
      ],
      "metadata": {
        "colab": {
          "base_uri": "https://localhost:8080/"
        },
        "id": "u59X35xQuWVP",
        "outputId": "e3654b31-38af-4b07-b101-18c94f16db9f"
      },
      "execution_count": null,
      "outputs": [
        {
          "output_type": "stream",
          "name": "stdout",
          "text": [
            "The value of 50  +  3 is:  53\n",
            "The value of 50  +  3 is:  47\n",
            "The value of 50  +  3 is:  150\n",
            "The value of 50  +  3 is:  16\n"
          ]
        }
      ]
    },
    {
      "cell_type": "code",
      "source": [
        "a = \"1\";\n",
        "b = \"2\";\n",
        "\n",
        "print(int(a) + int(b));\n",
        "print(a + b);"
      ],
      "metadata": {
        "colab": {
          "base_uri": "https://localhost:8080/"
        },
        "id": "ugszL28G11f1",
        "outputId": "34350b59-82ea-4066-bdfc-334b1130f5a6"
      },
      "execution_count": null,
      "outputs": [
        {
          "output_type": "stream",
          "name": "stdout",
          "text": [
            "3\n",
            "12\n"
          ]
        }
      ]
    },
    {
      "cell_type": "code",
      "source": [
        "a = input(\"Enter your name: \");\n",
        "print(a);\n",
        "a = input(\"Enter your name: \");\n",
        "print(\"My name is: \", a)"
      ],
      "metadata": {
        "colab": {
          "base_uri": "https://localhost:8080/"
        },
        "id": "gb_CyQBv38i1",
        "outputId": "52e11a0e-7ce7-4c82-eb70-a54eb220cbec"
      },
      "execution_count": null,
      "outputs": [
        {
          "output_type": "stream",
          "name": "stdout",
          "text": [
            "Enter your name: Hammad\n",
            "Hammad\n",
            "Enter your name: Hammad\n",
            "My name is:  Hammad\n"
          ]
        }
      ]
    },
    {
      "cell_type": "code",
      "source": [
        "a = \"Harry!!!!!!!!! !!!!!!!!! Harry!!!\"\n",
        "print(len(a))\n",
        "print(a)\n",
        "print(a.upper());\n",
        "print(a.lower());\n",
        "print(a.rstrip(\"!\"));\n",
        "print(a.replace(\"Harry\", \"Hammad\"));\n",
        "print(a.split(\" \"))\n",
        "blogHeading = \"introduction to js;\"\n",
        "print(blogHeading.capitalize())\n",
        "str1 = \"Welcome to console!!!\"\n",
        "print(len(str1))\n",
        "print(len(str1.center(50)))\n",
        "print(a.count(\"Harry\"))\n"
      ],
      "metadata": {
        "colab": {
          "base_uri": "https://localhost:8080/"
        },
        "id": "YroBz4nk0lPA",
        "outputId": "64c075d7-2d97-4bb1-a4ce-2f8c5a79a24a"
      },
      "execution_count": null,
      "outputs": [
        {
          "output_type": "stream",
          "name": "stdout",
          "text": [
            "33\n",
            "Harry!!!!!!!!! !!!!!!!!! Harry!!!\n",
            "HARRY!!!!!!!!! !!!!!!!!! HARRY!!!\n",
            "harry!!!!!!!!! !!!!!!!!! harry!!!\n",
            "Harry!!!!!!!!! !!!!!!!!! Harry\n",
            "Hammad!!!!!!!!! !!!!!!!!! Hammad!!!\n",
            "['Harry!!!!!!!!!', '!!!!!!!!!', 'Harry!!!']\n",
            "Introduction to js;\n",
            "21\n",
            "50\n",
            "2\n"
          ]
        }
      ]
    },
    {
      "cell_type": "code",
      "source": [
        "name = \"Hammad\";\n",
        "f_name = \"Hikmat\";\n",
        "age = 33;\n",
        "course = \"AI\";\n",
        "result = \"Name: \"+ name +\"\\n Father's Name: \"+ f_name +\"\\n Age: \"+ str(age) +\"\\n Course: \"+ course +\"\"\n",
        "print(result)"
      ],
      "metadata": {
        "colab": {
          "base_uri": "https://localhost:8080/"
        },
        "id": "_hO5nUN2TJtf",
        "outputId": "6656c787-f56a-4be8-96cc-9a14c0ff9ce5"
      },
      "execution_count": null,
      "outputs": [
        {
          "output_type": "stream",
          "name": "stdout",
          "text": [
            "Name: Hammad\n",
            " Father's Name: Hikmat\n",
            " Age: 33\n",
            " Course: AI\n"
          ]
        }
      ]
    }
  ]
}