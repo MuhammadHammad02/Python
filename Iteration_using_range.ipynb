{
  "nbformat": 4,
  "nbformat_minor": 0,
  "metadata": {
    "colab": {
      "provenance": [],
      "authorship_tag": "ABX9TyOMPY3oUfy29QKVLHMrQYoQ",
      "include_colab_link": true
    },
    "kernelspec": {
      "name": "python3",
      "display_name": "Python 3"
    },
    "language_info": {
      "name": "python"
    }
  },
  "cells": [
    {
      "cell_type": "markdown",
      "metadata": {
        "id": "view-in-github",
        "colab_type": "text"
      },
      "source": [
        "<a href=\"https://colab.research.google.com/github/MuhammadHammad02/Python/blob/main/Iteration_using_range.ipynb\" target=\"_parent\"><img src=\"https://colab.research.google.com/assets/colab-badge.svg\" alt=\"Open In Colab\"/></a>"
      ]
    },
    {
      "cell_type": "code",
      "execution_count": 2,
      "metadata": {
        "colab": {
          "base_uri": "https://localhost:8080/"
        },
        "id": "p67kyW0XVf39",
        "outputId": "52e8ecff-8f1e-4dd3-a8aa-33774abb9f4c"
      },
      "outputs": [
        {
          "output_type": "stream",
          "name": "stdout",
          "text": [
            "0\n",
            "1\n",
            "2\n",
            "3\n",
            "4\n",
            "5\n",
            "6\n"
          ]
        }
      ],
      "source": [
        "for i in range(7):\n",
        "  print(i)"
      ]
    },
    {
      "cell_type": "code",
      "source": [
        "for i in range(3,10):\n",
        "  print(i)"
      ],
      "metadata": {
        "colab": {
          "base_uri": "https://localhost:8080/"
        },
        "id": "qyc6TeiyVw3X",
        "outputId": "8403f2f9-da1c-47e4-8283-20ad45b80814"
      },
      "execution_count": 3,
      "outputs": [
        {
          "output_type": "stream",
          "name": "stdout",
          "text": [
            "3\n",
            "4\n",
            "5\n",
            "6\n",
            "7\n",
            "8\n",
            "9\n"
          ]
        }
      ]
    },
    {
      "cell_type": "code",
      "source": [
        "for i in range (3, 14, 4):\n",
        "  print(i)"
      ],
      "metadata": {
        "colab": {
          "base_uri": "https://localhost:8080/"
        },
        "id": "GVI0NfchV3rP",
        "outputId": "7145d5f4-9d29-4f6e-f599-be26bb5d2984"
      },
      "execution_count": 4,
      "outputs": [
        {
          "output_type": "stream",
          "name": "stdout",
          "text": [
            "3\n",
            "7\n",
            "11\n"
          ]
        }
      ]
    },
    {
      "cell_type": "code",
      "source": [
        "a_list = ['monday','tuesday','wednesday','thursday','friday']\n",
        "for i in range(len(a_list)):\n",
        "  print(\"The value of position {} is {}\" .format(i, a_list[i]))"
      ],
      "metadata": {
        "colab": {
          "base_uri": "https://localhost:8080/"
        },
        "id": "ZAwsCi-lWmC4",
        "outputId": "931016dd-47ef-46d6-a6a0-de8a848bd483"
      },
      "execution_count": 5,
      "outputs": [
        {
          "output_type": "stream",
          "name": "stdout",
          "text": [
            "The value of position 0 is monday\n",
            "The value of position 1 is tuesday\n",
            "The value of position 2 is wednesday\n",
            "The value of position 3 is thursday\n",
            "The value of position 4 is friday\n"
          ]
        }
      ]
    },
    {
      "cell_type": "code",
      "source": [
        "weekdays = ['monday','tuesday','wednesday','thursday','friday']\n",
        "for day in weekdays:\n",
        "  print(\"Today is {}\".format(day))\n",
        "  if(day == \"thursday\"):\n",
        "    print(\"I dont work \")\n",
        "    break"
      ],
      "metadata": {
        "colab": {
          "base_uri": "https://localhost:8080/"
        },
        "id": "vkmHtDoEXP_o",
        "outputId": "c98b4b0d-622e-45b1-a096-d6bc43955cb4"
      },
      "execution_count": 6,
      "outputs": [
        {
          "output_type": "stream",
          "name": "stdout",
          "text": [
            "Today is monday\n",
            "Today is tuesday\n",
            "Today is wednesday\n",
            "Today is thursday\n",
            "I dont work \n"
          ]
        }
      ]
    },
    {
      "cell_type": "code",
      "source": [
        "for day in weekdays:\n",
        "  if (day == 'wednesday'):\n",
        "    print(\"I dont Like to work\")\n",
        "    continue\n",
        "  print('today is {}'.format(day))"
      ],
      "metadata": {
        "colab": {
          "base_uri": "https://localhost:8080/"
        },
        "id": "feT5WtBQYiUJ",
        "outputId": "b210cc85-386c-46b0-cb42-c3d56ef8d764"
      },
      "execution_count": 7,
      "outputs": [
        {
          "output_type": "stream",
          "name": "stdout",
          "text": [
            "today is monday\n",
            "today is tuesday\n",
            "I dont Like to work\n",
            "today is thursday\n",
            "today is friday\n"
          ]
        }
      ]
    }
  ]
}